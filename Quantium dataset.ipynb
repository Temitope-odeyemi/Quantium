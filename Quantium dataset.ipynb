{
 "cells": [
  {
   "cell_type": "code",
   "execution_count": 68,
   "id": "ad2a000b",
   "metadata": {},
   "outputs": [],
   "source": [
    "import pandas as pd\n",
    "import numpy as np"
   ]
  },
  {
   "cell_type": "code",
   "execution_count": 69,
   "id": "367df07e",
   "metadata": {},
   "outputs": [],
   "source": [
    "# importing transaction dataset\n",
    "df1 = pd.read_csv('QVI_transaction_data.csv')"
   ]
  },
  {
   "cell_type": "code",
   "execution_count": 70,
   "id": "6155d05a",
   "metadata": {},
   "outputs": [],
   "source": [
    "# importing purchase behaviour dataset\n",
    "df2 = pd.read_csv('QVI_purchase_behaviour.csv')"
   ]
  },
  {
   "cell_type": "markdown",
   "id": "084110cc",
   "metadata": {},
   "source": [
    "#### Cleaning Transaction dataset"
   ]
  },
  {
   "cell_type": "code",
   "execution_count": 71,
   "id": "173e6ecb",
   "metadata": {},
   "outputs": [
    {
     "data": {
      "text/html": [
       "<div>\n",
       "<style scoped>\n",
       "    .dataframe tbody tr th:only-of-type {\n",
       "        vertical-align: middle;\n",
       "    }\n",
       "\n",
       "    .dataframe tbody tr th {\n",
       "        vertical-align: top;\n",
       "    }\n",
       "\n",
       "    .dataframe thead th {\n",
       "        text-align: right;\n",
       "    }\n",
       "</style>\n",
       "<table border=\"1\" class=\"dataframe\">\n",
       "  <thead>\n",
       "    <tr style=\"text-align: right;\">\n",
       "      <th></th>\n",
       "      <th>DATE</th>\n",
       "      <th>STORE_NBR</th>\n",
       "      <th>LYLTY_CARD_NBR</th>\n",
       "      <th>TXN_ID</th>\n",
       "      <th>PROD_NBR</th>\n",
       "      <th>PROD_NAME</th>\n",
       "      <th>PROD_QTY</th>\n",
       "      <th>TOT_SALES</th>\n",
       "    </tr>\n",
       "  </thead>\n",
       "  <tbody>\n",
       "    <tr>\n",
       "      <th>0</th>\n",
       "      <td>43390</td>\n",
       "      <td>1</td>\n",
       "      <td>1000</td>\n",
       "      <td>1</td>\n",
       "      <td>5</td>\n",
       "      <td>Natural Chip        Compny SeaSalt175g</td>\n",
       "      <td>2</td>\n",
       "      <td>6.0</td>\n",
       "    </tr>\n",
       "    <tr>\n",
       "      <th>1</th>\n",
       "      <td>43599</td>\n",
       "      <td>1</td>\n",
       "      <td>1307</td>\n",
       "      <td>348</td>\n",
       "      <td>66</td>\n",
       "      <td>CCs Nacho Cheese    175g</td>\n",
       "      <td>3</td>\n",
       "      <td>6.3</td>\n",
       "    </tr>\n",
       "    <tr>\n",
       "      <th>2</th>\n",
       "      <td>43605</td>\n",
       "      <td>1</td>\n",
       "      <td>1343</td>\n",
       "      <td>383</td>\n",
       "      <td>61</td>\n",
       "      <td>Smiths Crinkle Cut  Chips Chicken 170g</td>\n",
       "      <td>2</td>\n",
       "      <td>2.9</td>\n",
       "    </tr>\n",
       "    <tr>\n",
       "      <th>3</th>\n",
       "      <td>43329</td>\n",
       "      <td>2</td>\n",
       "      <td>2373</td>\n",
       "      <td>974</td>\n",
       "      <td>69</td>\n",
       "      <td>Smiths Chip Thinly  S/Cream&amp;Onion 175g</td>\n",
       "      <td>5</td>\n",
       "      <td>15.0</td>\n",
       "    </tr>\n",
       "    <tr>\n",
       "      <th>4</th>\n",
       "      <td>43330</td>\n",
       "      <td>2</td>\n",
       "      <td>2426</td>\n",
       "      <td>1038</td>\n",
       "      <td>108</td>\n",
       "      <td>Kettle Tortilla ChpsHny&amp;Jlpno Chili 150g</td>\n",
       "      <td>3</td>\n",
       "      <td>13.8</td>\n",
       "    </tr>\n",
       "  </tbody>\n",
       "</table>\n",
       "</div>"
      ],
      "text/plain": [
       "    DATE  STORE_NBR  LYLTY_CARD_NBR  TXN_ID  PROD_NBR  \\\n",
       "0  43390          1            1000       1         5   \n",
       "1  43599          1            1307     348        66   \n",
       "2  43605          1            1343     383        61   \n",
       "3  43329          2            2373     974        69   \n",
       "4  43330          2            2426    1038       108   \n",
       "\n",
       "                                  PROD_NAME  PROD_QTY  TOT_SALES  \n",
       "0    Natural Chip        Compny SeaSalt175g         2        6.0  \n",
       "1                  CCs Nacho Cheese    175g         3        6.3  \n",
       "2    Smiths Crinkle Cut  Chips Chicken 170g         2        2.9  \n",
       "3    Smiths Chip Thinly  S/Cream&Onion 175g         5       15.0  \n",
       "4  Kettle Tortilla ChpsHny&Jlpno Chili 150g         3       13.8  "
      ]
     },
     "execution_count": 71,
     "metadata": {},
     "output_type": "execute_result"
    }
   ],
   "source": [
    "df1.head()"
   ]
  },
  {
   "cell_type": "markdown",
   "id": "e1dc9a0f",
   "metadata": {},
   "source": [
    "#### Checking for duplicate"
   ]
  },
  {
   "cell_type": "code",
   "execution_count": 72,
   "id": "ca9f2cf5",
   "metadata": {},
   "outputs": [
    {
     "data": {
      "text/html": [
       "<div>\n",
       "<style scoped>\n",
       "    .dataframe tbody tr th:only-of-type {\n",
       "        vertical-align: middle;\n",
       "    }\n",
       "\n",
       "    .dataframe tbody tr th {\n",
       "        vertical-align: top;\n",
       "    }\n",
       "\n",
       "    .dataframe thead th {\n",
       "        text-align: right;\n",
       "    }\n",
       "</style>\n",
       "<table border=\"1\" class=\"dataframe\">\n",
       "  <thead>\n",
       "    <tr style=\"text-align: right;\">\n",
       "      <th></th>\n",
       "      <th>DATE</th>\n",
       "      <th>STORE_NBR</th>\n",
       "      <th>LYLTY_CARD_NBR</th>\n",
       "      <th>TXN_ID</th>\n",
       "      <th>PROD_NBR</th>\n",
       "      <th>PROD_NAME</th>\n",
       "      <th>PROD_QTY</th>\n",
       "      <th>TOT_SALES</th>\n",
       "    </tr>\n",
       "  </thead>\n",
       "  <tbody>\n",
       "    <tr>\n",
       "      <th>124845</th>\n",
       "      <td>43374</td>\n",
       "      <td>107</td>\n",
       "      <td>107024</td>\n",
       "      <td>108462</td>\n",
       "      <td>45</td>\n",
       "      <td>Smiths Thinly Cut   Roast Chicken 175g</td>\n",
       "      <td>2</td>\n",
       "      <td>6.0</td>\n",
       "    </tr>\n",
       "  </tbody>\n",
       "</table>\n",
       "</div>"
      ],
      "text/plain": [
       "         DATE  STORE_NBR  LYLTY_CARD_NBR  TXN_ID  PROD_NBR  \\\n",
       "124845  43374        107          107024  108462        45   \n",
       "\n",
       "                                     PROD_NAME  PROD_QTY  TOT_SALES  \n",
       "124845  Smiths Thinly Cut   Roast Chicken 175g         2        6.0  "
      ]
     },
     "execution_count": 72,
     "metadata": {},
     "output_type": "execute_result"
    }
   ],
   "source": [
    "df1[df1.duplicated()]"
   ]
  },
  {
   "cell_type": "code",
   "execution_count": 73,
   "id": "bd38d633",
   "metadata": {},
   "outputs": [],
   "source": [
    "# droppling the duplicated row\n",
    "df1 = df1.drop_duplicates()"
   ]
  },
  {
   "cell_type": "code",
   "execution_count": 74,
   "id": "417249ac",
   "metadata": {},
   "outputs": [
    {
     "data": {
      "text/plain": [
       "0"
      ]
     },
     "execution_count": 74,
     "metadata": {},
     "output_type": "execute_result"
    }
   ],
   "source": [
    "df1.duplicated().sum()"
   ]
  },
  {
   "cell_type": "markdown",
   "id": "a9445d71",
   "metadata": {},
   "source": [
    "#### Checking for the the infomation of the dataset"
   ]
  },
  {
   "cell_type": "code",
   "execution_count": 75,
   "id": "46ef9556",
   "metadata": {},
   "outputs": [
    {
     "name": "stdout",
     "output_type": "stream",
     "text": [
      "<class 'pandas.core.frame.DataFrame'>\n",
      "Int64Index: 264835 entries, 0 to 264835\n",
      "Data columns (total 8 columns):\n",
      " #   Column          Non-Null Count   Dtype  \n",
      "---  ------          --------------   -----  \n",
      " 0   DATE            264835 non-null  int64  \n",
      " 1   STORE_NBR       264835 non-null  int64  \n",
      " 2   LYLTY_CARD_NBR  264835 non-null  int64  \n",
      " 3   TXN_ID          264835 non-null  int64  \n",
      " 4   PROD_NBR        264835 non-null  int64  \n",
      " 5   PROD_NAME       264835 non-null  object \n",
      " 6   PROD_QTY        264835 non-null  int64  \n",
      " 7   TOT_SALES       264835 non-null  float64\n",
      "dtypes: float64(1), int64(6), object(1)\n",
      "memory usage: 18.2+ MB\n"
     ]
    }
   ],
   "source": [
    "df1.info()"
   ]
  },
  {
   "cell_type": "markdown",
   "id": "ac6851ea",
   "metadata": {},
   "source": [
    "#### Changing datatype of date column"
   ]
  },
  {
   "cell_type": "code",
   "execution_count": 76,
   "id": "46c18079",
   "metadata": {},
   "outputs": [],
   "source": [
    "df1['DATE'] = pd.to_datetime(df1['DATE'], unit='D', origin='1899-12-30')"
   ]
  },
  {
   "cell_type": "code",
   "execution_count": 77,
   "id": "6490a172",
   "metadata": {},
   "outputs": [
    {
     "data": {
      "text/plain": [
       "0   2018-10-17\n",
       "1   2019-05-14\n",
       "2   2019-05-20\n",
       "3   2018-08-17\n",
       "4   2018-08-18\n",
       "Name: DATE, dtype: datetime64[ns]"
      ]
     },
     "execution_count": 77,
     "metadata": {},
     "output_type": "execute_result"
    }
   ],
   "source": [
    "df1['DATE'].head()"
   ]
  },
  {
   "cell_type": "markdown",
   "id": "102404cb",
   "metadata": {},
   "source": [
    "#### Checking for null values"
   ]
  },
  {
   "cell_type": "code",
   "execution_count": 78,
   "id": "f4296d3d",
   "metadata": {},
   "outputs": [
    {
     "data": {
      "text/plain": [
       "DATE              0\n",
       "STORE_NBR         0\n",
       "LYLTY_CARD_NBR    0\n",
       "TXN_ID            0\n",
       "PROD_NBR          0\n",
       "PROD_NAME         0\n",
       "PROD_QTY          0\n",
       "TOT_SALES         0\n",
       "dtype: int64"
      ]
     },
     "execution_count": 78,
     "metadata": {},
     "output_type": "execute_result"
    }
   ],
   "source": [
    "df1.isnull().sum()"
   ]
  },
  {
   "cell_type": "markdown",
   "id": "955c8954",
   "metadata": {},
   "source": [
    "No null value, we can move on"
   ]
  },
  {
   "cell_type": "code",
   "execution_count": 79,
   "id": "d206500e",
   "metadata": {},
   "outputs": [
    {
     "data": {
      "text/html": [
       "<div>\n",
       "<style scoped>\n",
       "    .dataframe tbody tr th:only-of-type {\n",
       "        vertical-align: middle;\n",
       "    }\n",
       "\n",
       "    .dataframe tbody tr th {\n",
       "        vertical-align: top;\n",
       "    }\n",
       "\n",
       "    .dataframe thead th {\n",
       "        text-align: right;\n",
       "    }\n",
       "</style>\n",
       "<table border=\"1\" class=\"dataframe\">\n",
       "  <thead>\n",
       "    <tr style=\"text-align: right;\">\n",
       "      <th></th>\n",
       "      <th>DATE</th>\n",
       "      <th>STORE_NBR</th>\n",
       "      <th>LYLTY_CARD_NBR</th>\n",
       "      <th>TXN_ID</th>\n",
       "      <th>PROD_NBR</th>\n",
       "      <th>PROD_NAME</th>\n",
       "      <th>PROD_QTY</th>\n",
       "      <th>TOT_SALES</th>\n",
       "    </tr>\n",
       "  </thead>\n",
       "  <tbody>\n",
       "    <tr>\n",
       "      <th>0</th>\n",
       "      <td>2018-10-17</td>\n",
       "      <td>1</td>\n",
       "      <td>1000</td>\n",
       "      <td>1</td>\n",
       "      <td>5</td>\n",
       "      <td>Natural Chip        Compny SeaSalt175g</td>\n",
       "      <td>2</td>\n",
       "      <td>6.0</td>\n",
       "    </tr>\n",
       "    <tr>\n",
       "      <th>1</th>\n",
       "      <td>2019-05-14</td>\n",
       "      <td>1</td>\n",
       "      <td>1307</td>\n",
       "      <td>348</td>\n",
       "      <td>66</td>\n",
       "      <td>CCs Nacho Cheese    175g</td>\n",
       "      <td>3</td>\n",
       "      <td>6.3</td>\n",
       "    </tr>\n",
       "    <tr>\n",
       "      <th>2</th>\n",
       "      <td>2019-05-20</td>\n",
       "      <td>1</td>\n",
       "      <td>1343</td>\n",
       "      <td>383</td>\n",
       "      <td>61</td>\n",
       "      <td>Smiths Crinkle Cut  Chips Chicken 170g</td>\n",
       "      <td>2</td>\n",
       "      <td>2.9</td>\n",
       "    </tr>\n",
       "    <tr>\n",
       "      <th>3</th>\n",
       "      <td>2018-08-17</td>\n",
       "      <td>2</td>\n",
       "      <td>2373</td>\n",
       "      <td>974</td>\n",
       "      <td>69</td>\n",
       "      <td>Smiths Chip Thinly  S/Cream&amp;Onion 175g</td>\n",
       "      <td>5</td>\n",
       "      <td>15.0</td>\n",
       "    </tr>\n",
       "    <tr>\n",
       "      <th>4</th>\n",
       "      <td>2018-08-18</td>\n",
       "      <td>2</td>\n",
       "      <td>2426</td>\n",
       "      <td>1038</td>\n",
       "      <td>108</td>\n",
       "      <td>Kettle Tortilla ChpsHny&amp;Jlpno Chili 150g</td>\n",
       "      <td>3</td>\n",
       "      <td>13.8</td>\n",
       "    </tr>\n",
       "  </tbody>\n",
       "</table>\n",
       "</div>"
      ],
      "text/plain": [
       "        DATE  STORE_NBR  LYLTY_CARD_NBR  TXN_ID  PROD_NBR  \\\n",
       "0 2018-10-17          1            1000       1         5   \n",
       "1 2019-05-14          1            1307     348        66   \n",
       "2 2019-05-20          1            1343     383        61   \n",
       "3 2018-08-17          2            2373     974        69   \n",
       "4 2018-08-18          2            2426    1038       108   \n",
       "\n",
       "                                  PROD_NAME  PROD_QTY  TOT_SALES  \n",
       "0    Natural Chip        Compny SeaSalt175g         2        6.0  \n",
       "1                  CCs Nacho Cheese    175g         3        6.3  \n",
       "2    Smiths Crinkle Cut  Chips Chicken 170g         2        2.9  \n",
       "3    Smiths Chip Thinly  S/Cream&Onion 175g         5       15.0  \n",
       "4  Kettle Tortilla ChpsHny&Jlpno Chili 150g         3       13.8  "
      ]
     },
     "execution_count": 79,
     "metadata": {},
     "output_type": "execute_result"
    }
   ],
   "source": [
    "df1.head()"
   ]
  },
  {
   "cell_type": "markdown",
   "id": "746d50ee",
   "metadata": {},
   "source": [
    "#### Removing product size from product name"
   ]
  },
  {
   "cell_type": "code",
   "execution_count": 80,
   "id": "ce4ae959",
   "metadata": {},
   "outputs": [
    {
     "data": {
      "text/plain": [
       "array(['Natural Chip        Compny SeaSalt175g',\n",
       "       'CCs Nacho Cheese    175g',\n",
       "       'Smiths Crinkle Cut  Chips Chicken 170g',\n",
       "       'Smiths Chip Thinly  S/Cream&Onion 175g',\n",
       "       'Kettle Tortilla ChpsHny&Jlpno Chili 150g',\n",
       "       'Old El Paso Salsa   Dip Tomato Mild 300g',\n",
       "       'Smiths Crinkle Chips Salt & Vinegar 330g',\n",
       "       'Grain Waves         Sweet Chilli 210g',\n",
       "       'Doritos Corn Chip Mexican Jalapeno 150g',\n",
       "       'Grain Waves Sour    Cream&Chives 210G',\n",
       "       'Kettle Sensations   Siracha Lime 150g',\n",
       "       'Twisties Cheese     270g', 'WW Crinkle Cut      Chicken 175g',\n",
       "       'Thins Chips Light&  Tangy 175g', 'CCs Original 175g',\n",
       "       'Burger Rings 220g', 'NCC Sour Cream &    Garden Chives 175g',\n",
       "       'Doritos Corn Chip Southern Chicken 150g',\n",
       "       'Cheezels Cheese Box 125g', 'Smiths Crinkle      Original 330g',\n",
       "       'Infzns Crn Crnchers Tangy Gcamole 110g',\n",
       "       'Kettle Sea Salt     And Vinegar 175g',\n",
       "       'Smiths Chip Thinly  Cut Original 175g', 'Kettle Original 175g',\n",
       "       'Red Rock Deli Thai  Chilli&Lime 150g',\n",
       "       'Pringles Sthrn FriedChicken 134g', 'Pringles Sweet&Spcy BBQ 134g',\n",
       "       'Red Rock Deli SR    Salsa & Mzzrlla 150g',\n",
       "       'Thins Chips         Originl saltd 175g',\n",
       "       'Red Rock Deli Sp    Salt & Truffle 150G',\n",
       "       'Smiths Thinly       Swt Chli&S/Cream175G', 'Kettle Chilli 175g',\n",
       "       'Doritos Mexicana    170g',\n",
       "       'Smiths Crinkle Cut  French OnionDip 150g',\n",
       "       'Natural ChipCo      Hony Soy Chckn175g',\n",
       "       'Dorito Corn Chp     Supreme 380g', 'Twisties Chicken270g',\n",
       "       'Smiths Thinly Cut   Roast Chicken 175g',\n",
       "       'Smiths Crinkle Cut  Tomato Salsa 150g',\n",
       "       'Kettle Mozzarella   Basil & Pesto 175g',\n",
       "       'Infuzions Thai SweetChili PotatoMix 110g',\n",
       "       'Kettle Sensations   Camembert & Fig 150g',\n",
       "       'Smith Crinkle Cut   Mac N Cheese 150g',\n",
       "       'Kettle Honey Soy    Chicken 175g',\n",
       "       'Thins Chips Seasonedchicken 175g',\n",
       "       'Smiths Crinkle Cut  Salt & Vinegar 170g',\n",
       "       'Infuzions BBQ Rib   Prawn Crackers 110g',\n",
       "       'GrnWves Plus Btroot & Chilli Jam 180g',\n",
       "       'Tyrrells Crisps     Lightly Salted 165g',\n",
       "       'Kettle Sweet Chilli And Sour Cream 175g',\n",
       "       'Doritos Salsa       Medium 300g', 'Kettle 135g Swt Pot Sea Salt',\n",
       "       'Pringles SourCream  Onion 134g',\n",
       "       'Doritos Corn Chips  Original 170g',\n",
       "       'Twisties Cheese     Burger 250g',\n",
       "       'Old El Paso Salsa   Dip Chnky Tom Ht300g',\n",
       "       'Cobs Popd Swt/Chlli &Sr/Cream Chips 110g',\n",
       "       'Woolworths Mild     Salsa 300g',\n",
       "       'Natural Chip Co     Tmato Hrb&Spce 175g',\n",
       "       'Smiths Crinkle Cut  Chips Original 170g',\n",
       "       'Cobs Popd Sea Salt  Chips 110g',\n",
       "       'Smiths Crinkle Cut  Chips Chs&Onion170g',\n",
       "       'French Fries Potato Chips 175g',\n",
       "       'Old El Paso Salsa   Dip Tomato Med 300g',\n",
       "       'Doritos Corn Chips  Cheese Supreme 170g',\n",
       "       'Pringles Original   Crisps 134g',\n",
       "       'RRD Chilli&         Coconut 150g',\n",
       "       'WW Original Corn    Chips 200g',\n",
       "       'Thins Potato Chips  Hot & Spicy 175g',\n",
       "       'Cobs Popd Sour Crm  &Chives Chips 110g',\n",
       "       'Smiths Crnkle Chip  Orgnl Big Bag 380g',\n",
       "       'Doritos Corn Chips  Nacho Cheese 170g',\n",
       "       'Kettle Sensations   BBQ&Maple 150g',\n",
       "       'WW D/Style Chip     Sea Salt 200g',\n",
       "       'Pringles Chicken    Salt Crips 134g',\n",
       "       'WW Original Stacked Chips 160g',\n",
       "       'Smiths Chip Thinly  CutSalt/Vinegr175g', 'Cheezels Cheese 330g',\n",
       "       'Tostitos Lightly    Salted 175g',\n",
       "       'Thins Chips Salt &  Vinegar 175g',\n",
       "       'Smiths Crinkle Cut  Chips Barbecue 170g', 'Cheetos Puffs 165g',\n",
       "       'RRD Sweet Chilli &  Sour Cream 165g',\n",
       "       'WW Crinkle Cut      Original 175g',\n",
       "       'Tostitos Splash Of  Lime 175g', 'Woolworths Medium   Salsa 300g',\n",
       "       'Kettle Tortilla ChpsBtroot&Ricotta 150g',\n",
       "       'CCs Tasty Cheese    175g', 'Woolworths Cheese   Rings 190g',\n",
       "       'Tostitos Smoked     Chipotle 175g', 'Pringles Barbeque   134g',\n",
       "       'WW Supreme Cheese   Corn Chips 200g',\n",
       "       'Pringles Mystery    Flavour 134g',\n",
       "       'Tyrrells Crisps     Ched & Chives 165g',\n",
       "       'Snbts Whlgrn Crisps Cheddr&Mstrd 90g',\n",
       "       'Cheetos Chs & Bacon Balls 190g', 'Pringles Slt Vingar 134g',\n",
       "       'Infuzions SourCream&Herbs Veg Strws 110g',\n",
       "       'Kettle Tortilla ChpsFeta&Garlic 150g',\n",
       "       'Infuzions Mango     Chutny Papadums 70g',\n",
       "       'RRD Steak &         Chimuchurri 150g',\n",
       "       'RRD Honey Soy       Chicken 165g',\n",
       "       'Sunbites Whlegrn    Crisps Frch/Onin 90g',\n",
       "       'RRD Salt & Vinegar  165g', 'Doritos Cheese      Supreme 330g',\n",
       "       'Smiths Crinkle Cut  Snag&Sauce 150g',\n",
       "       'WW Sour Cream &OnionStacked Chips 160g',\n",
       "       'RRD Lime & Pepper   165g',\n",
       "       'Natural ChipCo Sea  Salt & Vinegr 175g',\n",
       "       'Red Rock Deli Chikn&Garlic Aioli 150g',\n",
       "       'RRD SR Slow Rst     Pork Belly 150g', 'RRD Pc Sea Salt     165g',\n",
       "       'Smith Crinkle Cut   Bolognese 150g', 'Doritos Salsa Mild  300g'],\n",
       "      dtype=object)"
      ]
     },
     "execution_count": 80,
     "metadata": {},
     "output_type": "execute_result"
    }
   ],
   "source": [
    "df1['PROD_NAME'].unique()"
   ]
  },
  {
   "cell_type": "markdown",
   "id": "6df9a55c",
   "metadata": {},
   "source": [
    "#### Creating a new column that will show the size of the product in g"
   ]
  },
  {
   "cell_type": "code",
   "execution_count": 81,
   "id": "2530270c",
   "metadata": {},
   "outputs": [],
   "source": [
    "df1['WEIGHTS(g)'] = df1['PROD_NAME'].apply(lambda x : x[-4:])"
   ]
  },
  {
   "cell_type": "code",
   "execution_count": 82,
   "id": "3f8262bc",
   "metadata": {},
   "outputs": [
    {
     "data": {
      "text/html": [
       "<div>\n",
       "<style scoped>\n",
       "    .dataframe tbody tr th:only-of-type {\n",
       "        vertical-align: middle;\n",
       "    }\n",
       "\n",
       "    .dataframe tbody tr th {\n",
       "        vertical-align: top;\n",
       "    }\n",
       "\n",
       "    .dataframe thead th {\n",
       "        text-align: right;\n",
       "    }\n",
       "</style>\n",
       "<table border=\"1\" class=\"dataframe\">\n",
       "  <thead>\n",
       "    <tr style=\"text-align: right;\">\n",
       "      <th></th>\n",
       "      <th>DATE</th>\n",
       "      <th>STORE_NBR</th>\n",
       "      <th>LYLTY_CARD_NBR</th>\n",
       "      <th>TXN_ID</th>\n",
       "      <th>PROD_NBR</th>\n",
       "      <th>PROD_NAME</th>\n",
       "      <th>PROD_QTY</th>\n",
       "      <th>TOT_SALES</th>\n",
       "      <th>WEIGHTS(g)</th>\n",
       "    </tr>\n",
       "  </thead>\n",
       "  <tbody>\n",
       "    <tr>\n",
       "      <th>0</th>\n",
       "      <td>2018-10-17</td>\n",
       "      <td>1</td>\n",
       "      <td>1000</td>\n",
       "      <td>1</td>\n",
       "      <td>5</td>\n",
       "      <td>Natural Chip        Compny SeaSalt175g</td>\n",
       "      <td>2</td>\n",
       "      <td>6.0</td>\n",
       "      <td>175g</td>\n",
       "    </tr>\n",
       "    <tr>\n",
       "      <th>1</th>\n",
       "      <td>2019-05-14</td>\n",
       "      <td>1</td>\n",
       "      <td>1307</td>\n",
       "      <td>348</td>\n",
       "      <td>66</td>\n",
       "      <td>CCs Nacho Cheese    175g</td>\n",
       "      <td>3</td>\n",
       "      <td>6.3</td>\n",
       "      <td>175g</td>\n",
       "    </tr>\n",
       "    <tr>\n",
       "      <th>2</th>\n",
       "      <td>2019-05-20</td>\n",
       "      <td>1</td>\n",
       "      <td>1343</td>\n",
       "      <td>383</td>\n",
       "      <td>61</td>\n",
       "      <td>Smiths Crinkle Cut  Chips Chicken 170g</td>\n",
       "      <td>2</td>\n",
       "      <td>2.9</td>\n",
       "      <td>170g</td>\n",
       "    </tr>\n",
       "    <tr>\n",
       "      <th>3</th>\n",
       "      <td>2018-08-17</td>\n",
       "      <td>2</td>\n",
       "      <td>2373</td>\n",
       "      <td>974</td>\n",
       "      <td>69</td>\n",
       "      <td>Smiths Chip Thinly  S/Cream&amp;Onion 175g</td>\n",
       "      <td>5</td>\n",
       "      <td>15.0</td>\n",
       "      <td>175g</td>\n",
       "    </tr>\n",
       "    <tr>\n",
       "      <th>4</th>\n",
       "      <td>2018-08-18</td>\n",
       "      <td>2</td>\n",
       "      <td>2426</td>\n",
       "      <td>1038</td>\n",
       "      <td>108</td>\n",
       "      <td>Kettle Tortilla ChpsHny&amp;Jlpno Chili 150g</td>\n",
       "      <td>3</td>\n",
       "      <td>13.8</td>\n",
       "      <td>150g</td>\n",
       "    </tr>\n",
       "  </tbody>\n",
       "</table>\n",
       "</div>"
      ],
      "text/plain": [
       "        DATE  STORE_NBR  LYLTY_CARD_NBR  TXN_ID  PROD_NBR  \\\n",
       "0 2018-10-17          1            1000       1         5   \n",
       "1 2019-05-14          1            1307     348        66   \n",
       "2 2019-05-20          1            1343     383        61   \n",
       "3 2018-08-17          2            2373     974        69   \n",
       "4 2018-08-18          2            2426    1038       108   \n",
       "\n",
       "                                  PROD_NAME  PROD_QTY  TOT_SALES WEIGHTS(g)  \n",
       "0    Natural Chip        Compny SeaSalt175g         2        6.0       175g  \n",
       "1                  CCs Nacho Cheese    175g         3        6.3       175g  \n",
       "2    Smiths Crinkle Cut  Chips Chicken 170g         2        2.9       170g  \n",
       "3    Smiths Chip Thinly  S/Cream&Onion 175g         5       15.0       175g  \n",
       "4  Kettle Tortilla ChpsHny&Jlpno Chili 150g         3       13.8       150g  "
      ]
     },
     "execution_count": 82,
     "metadata": {},
     "output_type": "execute_result"
    }
   ],
   "source": [
    "df1.head()"
   ]
  },
  {
   "cell_type": "code",
   "execution_count": 83,
   "id": "1574c265",
   "metadata": {},
   "outputs": [
    {
     "data": {
      "text/plain": [
       "array(['175g', '170g', '150g', '300g', '330g', '210g', '210G', '270g',\n",
       "       '220g', '125g', '110g', '134g', '150G', '175G', '380g', '180g',\n",
       "       '165g', 'Salt', '250g', '200g', '160g', '190g', ' 90g', ' 70g'],\n",
       "      dtype=object)"
      ]
     },
     "execution_count": 83,
     "metadata": {},
     "output_type": "execute_result"
    }
   ],
   "source": [
    "df1['WEIGHTS(g)'].unique()"
   ]
  },
  {
   "cell_type": "markdown",
   "id": "45edc3e6",
   "metadata": {},
   "source": [
    "Since some cells in the column end with 'salt' and not the exact weight of the product, i have to check the cells to see what it contains"
   ]
  },
  {
   "cell_type": "code",
   "execution_count": 84,
   "id": "a99e0075",
   "metadata": {},
   "outputs": [
    {
     "data": {
      "text/plain": [
       "65        Kettle 135g Swt Pot Sea Salt\n",
       "153       Kettle 135g Swt Pot Sea Salt\n",
       "174       Kettle 135g Swt Pot Sea Salt\n",
       "177       Kettle 135g Swt Pot Sea Salt\n",
       "348       Kettle 135g Swt Pot Sea Salt\n",
       "                      ...             \n",
       "264564    Kettle 135g Swt Pot Sea Salt\n",
       "264574    Kettle 135g Swt Pot Sea Salt\n",
       "264725    Kettle 135g Swt Pot Sea Salt\n",
       "264767    Kettle 135g Swt Pot Sea Salt\n",
       "264823    Kettle 135g Swt Pot Sea Salt\n",
       "Name: PROD_NAME, Length: 3257, dtype: object"
      ]
     },
     "execution_count": 84,
     "metadata": {},
     "output_type": "execute_result"
    }
   ],
   "source": [
    "df1['PROD_NAME'][df1['PROD_NAME'].str.endswith('Salt')]"
   ]
  },
  {
   "cell_type": "markdown",
   "id": "f76a2749",
   "metadata": {},
   "source": [
    "3257 columns end with salt, however, the product size can be found inbetween the cells"
   ]
  },
  {
   "cell_type": "markdown",
   "id": "39fb25f4",
   "metadata": {},
   "source": [
    "#### Futher extracting weight from product name"
   ]
  },
  {
   "cell_type": "code",
   "execution_count": 85,
   "id": "d46ec2f2",
   "metadata": {},
   "outputs": [],
   "source": [
    "def extract_weight(x):\n",
    "    if x == 'Salt' :\n",
    "        return '135g'\n",
    "    else :\n",
    "        return x\n",
    "    "
   ]
  },
  {
   "cell_type": "code",
   "execution_count": 86,
   "id": "8b738d8f",
   "metadata": {},
   "outputs": [],
   "source": [
    "df1['WEIGHTS(g)'] = df1['WEIGHTS(g)'].apply(extract_weight)"
   ]
  },
  {
   "cell_type": "code",
   "execution_count": 87,
   "id": "e23d4654",
   "metadata": {},
   "outputs": [],
   "source": [
    "df1['WEIGHTS(g)'] = df1['WEIGHTS(g)'].str[:-1] #Removing the 'G' and 'g' signifying gram at the end of the cells"
   ]
  },
  {
   "cell_type": "code",
   "execution_count": 88,
   "id": "62edabd9",
   "metadata": {},
   "outputs": [
    {
     "data": {
      "text/plain": [
       "array(['175', '170', '150', '300', '330', '210', '270', '220', '125',\n",
       "       '110', '134', '380', '180', '165', '135', '250', '200', '160',\n",
       "       '190', ' 90', ' 70'], dtype=object)"
      ]
     },
     "execution_count": 88,
     "metadata": {},
     "output_type": "execute_result"
    }
   ],
   "source": [
    "df1['WEIGHTS(g)'].unique()"
   ]
  },
  {
   "cell_type": "markdown",
   "id": "6654c245",
   "metadata": {},
   "source": [
    "#### Cleaning prod_name column by removing unneccessary strings and weight values from the column"
   ]
  },
  {
   "cell_type": "code",
   "execution_count": 89,
   "id": "c9a0a3b6",
   "metadata": {},
   "outputs": [
    {
     "data": {
      "text/plain": [
       "0           Natural Chip        Compny SeaSalt175g\n",
       "1                         CCs Nacho Cheese    175g\n",
       "2           Smiths Crinkle Cut  Chips Chicken 170g\n",
       "3           Smiths Chip Thinly  S/Cream&Onion 175g\n",
       "4         Kettle Tortilla ChpsHny&Jlpno Chili 150g\n",
       "                            ...                   \n",
       "264831     Kettle Sweet Chilli And Sour Cream 175g\n",
       "264832               Tostitos Splash Of  Lime 175g\n",
       "264833                    Doritos Mexicana    170g\n",
       "264834     Doritos Corn Chip Mexican Jalapeno 150g\n",
       "264835               Tostitos Splash Of  Lime 175g\n",
       "Name: PROD_NAME, Length: 264835, dtype: object"
      ]
     },
     "execution_count": 89,
     "metadata": {},
     "output_type": "execute_result"
    }
   ],
   "source": [
    "df1['PROD_NAME']"
   ]
  },
  {
   "cell_type": "code",
   "execution_count": 90,
   "id": "fb132866",
   "metadata": {},
   "outputs": [],
   "source": [
    "df1['PROD_NAME']= df1['PROD_NAME'].str.replace('/', '')"
   ]
  },
  {
   "cell_type": "code",
   "execution_count": 91,
   "id": "e94421ee",
   "metadata": {},
   "outputs": [],
   "source": [
    "df1['PROD_NAME']= df1['PROD_NAME'].str.replace('135g ', '')"
   ]
  },
  {
   "cell_type": "code",
   "execution_count": 92,
   "id": "7e13fb8b",
   "metadata": {},
   "outputs": [],
   "source": [
    "df1['PROD_NAME']= df1['PROD_NAME'].str.replace('S/', ' ')"
   ]
  },
  {
   "cell_type": "code",
   "execution_count": 93,
   "id": "354f5f60",
   "metadata": {},
   "outputs": [
    {
     "name": "stderr",
     "output_type": "stream",
     "text": [
      "C:\\Users\\Temitope\\AppData\\Local\\Temp\\ipykernel_7768\\3580492188.py:1: FutureWarning: The default value of regex will change from True to False in a future version.\n",
      "  df1['PROD_NAME'] = df1['PROD_NAME'].str.replace('\\d+', ' ')\n"
     ]
    }
   ],
   "source": [
    "df1['PROD_NAME'] = df1['PROD_NAME'].str.replace('\\d+', ' ')"
   ]
  },
  {
   "cell_type": "code",
   "execution_count": 94,
   "id": "4f0efe8e",
   "metadata": {},
   "outputs": [
    {
     "name": "stderr",
     "output_type": "stream",
     "text": [
      "C:\\Users\\Temitope\\AppData\\Local\\Temp\\ipykernel_7768\\3811155919.py:1: FutureWarning: The default value of regex will change from True to False in a future version.\n",
      "  df1['PROD_NAME'] = df1['PROD_NAME'].str.replace('[gG]$', '')\n"
     ]
    }
   ],
   "source": [
    "df1['PROD_NAME'] = df1['PROD_NAME'].str.replace('[gG]$', '')"
   ]
  },
  {
   "cell_type": "markdown",
   "id": "4da6c9d8",
   "metadata": {},
   "source": [
    "#### Saving the cleaned transaction dataset"
   ]
  },
  {
   "cell_type": "code",
   "execution_count": 95,
   "id": "199f0eb9",
   "metadata": {},
   "outputs": [],
   "source": [
    "df1.to_csv('cleaned_transaction_dataset.csv', index=False)"
   ]
  },
  {
   "cell_type": "markdown",
   "id": "ed707f10",
   "metadata": {},
   "source": [
    "#### Cleaning Purchase behaviour dataset"
   ]
  },
  {
   "cell_type": "code",
   "execution_count": 96,
   "id": "3ef33aff",
   "metadata": {},
   "outputs": [
    {
     "data": {
      "text/html": [
       "<div>\n",
       "<style scoped>\n",
       "    .dataframe tbody tr th:only-of-type {\n",
       "        vertical-align: middle;\n",
       "    }\n",
       "\n",
       "    .dataframe tbody tr th {\n",
       "        vertical-align: top;\n",
       "    }\n",
       "\n",
       "    .dataframe thead th {\n",
       "        text-align: right;\n",
       "    }\n",
       "</style>\n",
       "<table border=\"1\" class=\"dataframe\">\n",
       "  <thead>\n",
       "    <tr style=\"text-align: right;\">\n",
       "      <th></th>\n",
       "      <th>LYLTY_CARD_NBR</th>\n",
       "      <th>LIFESTAGE</th>\n",
       "      <th>PREMIUM_CUSTOMER</th>\n",
       "    </tr>\n",
       "  </thead>\n",
       "  <tbody>\n",
       "    <tr>\n",
       "      <th>0</th>\n",
       "      <td>1000</td>\n",
       "      <td>YOUNG SINGLES/COUPLES</td>\n",
       "      <td>Premium</td>\n",
       "    </tr>\n",
       "    <tr>\n",
       "      <th>1</th>\n",
       "      <td>1002</td>\n",
       "      <td>YOUNG SINGLES/COUPLES</td>\n",
       "      <td>Mainstream</td>\n",
       "    </tr>\n",
       "    <tr>\n",
       "      <th>2</th>\n",
       "      <td>1003</td>\n",
       "      <td>YOUNG FAMILIES</td>\n",
       "      <td>Budget</td>\n",
       "    </tr>\n",
       "    <tr>\n",
       "      <th>3</th>\n",
       "      <td>1004</td>\n",
       "      <td>OLDER SINGLES/COUPLES</td>\n",
       "      <td>Mainstream</td>\n",
       "    </tr>\n",
       "    <tr>\n",
       "      <th>4</th>\n",
       "      <td>1005</td>\n",
       "      <td>MIDAGE SINGLES/COUPLES</td>\n",
       "      <td>Mainstream</td>\n",
       "    </tr>\n",
       "  </tbody>\n",
       "</table>\n",
       "</div>"
      ],
      "text/plain": [
       "   LYLTY_CARD_NBR               LIFESTAGE PREMIUM_CUSTOMER\n",
       "0            1000   YOUNG SINGLES/COUPLES          Premium\n",
       "1            1002   YOUNG SINGLES/COUPLES       Mainstream\n",
       "2            1003          YOUNG FAMILIES           Budget\n",
       "3            1004   OLDER SINGLES/COUPLES       Mainstream\n",
       "4            1005  MIDAGE SINGLES/COUPLES       Mainstream"
      ]
     },
     "execution_count": 96,
     "metadata": {},
     "output_type": "execute_result"
    }
   ],
   "source": [
    "df2.head()"
   ]
  },
  {
   "cell_type": "code",
   "execution_count": 97,
   "id": "a9205baf",
   "metadata": {},
   "outputs": [],
   "source": [
    "df2['LIFESTAGE']=df2['LIFESTAGE'].astype('category')\n",
    "df2['PREMIUM_CUSTOMER']=df2['PREMIUM_CUSTOMER'].astype('category')"
   ]
  },
  {
   "cell_type": "markdown",
   "id": "3470e593",
   "metadata": {},
   "source": [
    "#### Checking for null values"
   ]
  },
  {
   "cell_type": "code",
   "execution_count": 98,
   "id": "84d88101",
   "metadata": {},
   "outputs": [
    {
     "data": {
      "text/plain": [
       "LYLTY_CARD_NBR      0\n",
       "LIFESTAGE           0\n",
       "PREMIUM_CUSTOMER    0\n",
       "dtype: int64"
      ]
     },
     "execution_count": 98,
     "metadata": {},
     "output_type": "execute_result"
    }
   ],
   "source": [
    "df2.isnull().sum()"
   ]
  },
  {
   "cell_type": "markdown",
   "id": "a9d23ab3",
   "metadata": {},
   "source": [
    "No null values, we can move on"
   ]
  },
  {
   "cell_type": "markdown",
   "id": "b311676a",
   "metadata": {},
   "source": [
    "#### Checking for duplicates"
   ]
  },
  {
   "cell_type": "code",
   "execution_count": 99,
   "id": "8bbf4eea",
   "metadata": {},
   "outputs": [
    {
     "data": {
      "text/html": [
       "<div>\n",
       "<style scoped>\n",
       "    .dataframe tbody tr th:only-of-type {\n",
       "        vertical-align: middle;\n",
       "    }\n",
       "\n",
       "    .dataframe tbody tr th {\n",
       "        vertical-align: top;\n",
       "    }\n",
       "\n",
       "    .dataframe thead th {\n",
       "        text-align: right;\n",
       "    }\n",
       "</style>\n",
       "<table border=\"1\" class=\"dataframe\">\n",
       "  <thead>\n",
       "    <tr style=\"text-align: right;\">\n",
       "      <th></th>\n",
       "      <th>LYLTY_CARD_NBR</th>\n",
       "      <th>LIFESTAGE</th>\n",
       "      <th>PREMIUM_CUSTOMER</th>\n",
       "    </tr>\n",
       "  </thead>\n",
       "  <tbody>\n",
       "  </tbody>\n",
       "</table>\n",
       "</div>"
      ],
      "text/plain": [
       "Empty DataFrame\n",
       "Columns: [LYLTY_CARD_NBR, LIFESTAGE, PREMIUM_CUSTOMER]\n",
       "Index: []"
      ]
     },
     "execution_count": 99,
     "metadata": {},
     "output_type": "execute_result"
    }
   ],
   "source": [
    "df2[df2.duplicated()]"
   ]
  },
  {
   "cell_type": "markdown",
   "id": "73a548e7",
   "metadata": {},
   "source": [
    "No duplicated rows, we can move on"
   ]
  },
  {
   "cell_type": "markdown",
   "id": "fe0bda24",
   "metadata": {},
   "source": [
    "#### Checking the infomation of the dataset"
   ]
  },
  {
   "cell_type": "code",
   "execution_count": 100,
   "id": "3acc76b6",
   "metadata": {},
   "outputs": [
    {
     "name": "stdout",
     "output_type": "stream",
     "text": [
      "<class 'pandas.core.frame.DataFrame'>\n",
      "RangeIndex: 72637 entries, 0 to 72636\n",
      "Data columns (total 3 columns):\n",
      " #   Column            Non-Null Count  Dtype   \n",
      "---  ------            --------------  -----   \n",
      " 0   LYLTY_CARD_NBR    72637 non-null  int64   \n",
      " 1   LIFESTAGE         72637 non-null  category\n",
      " 2   PREMIUM_CUSTOMER  72637 non-null  category\n",
      "dtypes: category(2), int64(1)\n",
      "memory usage: 709.9 KB\n"
     ]
    }
   ],
   "source": [
    "df2.info()"
   ]
  },
  {
   "cell_type": "markdown",
   "id": "9a32c922",
   "metadata": {},
   "source": [
    "## Now that boths datasets are clean, we can now merge them together"
   ]
  },
  {
   "cell_type": "markdown",
   "id": "61efedb1",
   "metadata": {},
   "source": [
    "Since boths dataset has the loyalty card (LYLTY_CARD_NBR) column in common, we can merge boths dataset on it."
   ]
  },
  {
   "cell_type": "code",
   "execution_count": 101,
   "id": "c277978e",
   "metadata": {},
   "outputs": [],
   "source": [
    "df = pd.merge(df1, df2, on='LYLTY_CARD_NBR')"
   ]
  },
  {
   "cell_type": "code",
   "execution_count": 102,
   "id": "55263f1e",
   "metadata": {},
   "outputs": [
    {
     "data": {
      "text/html": [
       "<div>\n",
       "<style scoped>\n",
       "    .dataframe tbody tr th:only-of-type {\n",
       "        vertical-align: middle;\n",
       "    }\n",
       "\n",
       "    .dataframe tbody tr th {\n",
       "        vertical-align: top;\n",
       "    }\n",
       "\n",
       "    .dataframe thead th {\n",
       "        text-align: right;\n",
       "    }\n",
       "</style>\n",
       "<table border=\"1\" class=\"dataframe\">\n",
       "  <thead>\n",
       "    <tr style=\"text-align: right;\">\n",
       "      <th></th>\n",
       "      <th>DATE</th>\n",
       "      <th>STORE_NBR</th>\n",
       "      <th>LYLTY_CARD_NBR</th>\n",
       "      <th>TXN_ID</th>\n",
       "      <th>PROD_NBR</th>\n",
       "      <th>PROD_NAME</th>\n",
       "      <th>PROD_QTY</th>\n",
       "      <th>TOT_SALES</th>\n",
       "      <th>WEIGHTS(g)</th>\n",
       "      <th>LIFESTAGE</th>\n",
       "      <th>PREMIUM_CUSTOMER</th>\n",
       "    </tr>\n",
       "  </thead>\n",
       "  <tbody>\n",
       "    <tr>\n",
       "      <th>0</th>\n",
       "      <td>2018-10-17</td>\n",
       "      <td>1</td>\n",
       "      <td>1000</td>\n",
       "      <td>1</td>\n",
       "      <td>5</td>\n",
       "      <td>Natural Chip        Compny SeaSalt</td>\n",
       "      <td>2</td>\n",
       "      <td>6.0</td>\n",
       "      <td>175</td>\n",
       "      <td>YOUNG SINGLES/COUPLES</td>\n",
       "      <td>Premium</td>\n",
       "    </tr>\n",
       "    <tr>\n",
       "      <th>1</th>\n",
       "      <td>2019-05-14</td>\n",
       "      <td>1</td>\n",
       "      <td>1307</td>\n",
       "      <td>348</td>\n",
       "      <td>66</td>\n",
       "      <td>CCs Nacho Cheese</td>\n",
       "      <td>3</td>\n",
       "      <td>6.3</td>\n",
       "      <td>175</td>\n",
       "      <td>MIDAGE SINGLES/COUPLES</td>\n",
       "      <td>Budget</td>\n",
       "    </tr>\n",
       "    <tr>\n",
       "      <th>2</th>\n",
       "      <td>2018-11-10</td>\n",
       "      <td>1</td>\n",
       "      <td>1307</td>\n",
       "      <td>346</td>\n",
       "      <td>96</td>\n",
       "      <td>WW Original Stacked Chips</td>\n",
       "      <td>2</td>\n",
       "      <td>3.8</td>\n",
       "      <td>160</td>\n",
       "      <td>MIDAGE SINGLES/COUPLES</td>\n",
       "      <td>Budget</td>\n",
       "    </tr>\n",
       "    <tr>\n",
       "      <th>3</th>\n",
       "      <td>2019-03-09</td>\n",
       "      <td>1</td>\n",
       "      <td>1307</td>\n",
       "      <td>347</td>\n",
       "      <td>54</td>\n",
       "      <td>CCs Original</td>\n",
       "      <td>1</td>\n",
       "      <td>2.1</td>\n",
       "      <td>175</td>\n",
       "      <td>MIDAGE SINGLES/COUPLES</td>\n",
       "      <td>Budget</td>\n",
       "    </tr>\n",
       "    <tr>\n",
       "      <th>4</th>\n",
       "      <td>2019-05-20</td>\n",
       "      <td>1</td>\n",
       "      <td>1343</td>\n",
       "      <td>383</td>\n",
       "      <td>61</td>\n",
       "      <td>Smiths Crinkle Cut  Chips Chicken</td>\n",
       "      <td>2</td>\n",
       "      <td>2.9</td>\n",
       "      <td>170</td>\n",
       "      <td>MIDAGE SINGLES/COUPLES</td>\n",
       "      <td>Budget</td>\n",
       "    </tr>\n",
       "  </tbody>\n",
       "</table>\n",
       "</div>"
      ],
      "text/plain": [
       "        DATE  STORE_NBR  LYLTY_CARD_NBR  TXN_ID  PROD_NBR  \\\n",
       "0 2018-10-17          1            1000       1         5   \n",
       "1 2019-05-14          1            1307     348        66   \n",
       "2 2018-11-10          1            1307     346        96   \n",
       "3 2019-03-09          1            1307     347        54   \n",
       "4 2019-05-20          1            1343     383        61   \n",
       "\n",
       "                             PROD_NAME  PROD_QTY  TOT_SALES WEIGHTS(g)  \\\n",
       "0  Natural Chip        Compny SeaSalt          2        6.0        175   \n",
       "1                CCs Nacho Cheese              3        6.3        175   \n",
       "2          WW Original Stacked Chips           2        3.8        160   \n",
       "3                       CCs Original           1        2.1        175   \n",
       "4  Smiths Crinkle Cut  Chips Chicken           2        2.9        170   \n",
       "\n",
       "                LIFESTAGE PREMIUM_CUSTOMER  \n",
       "0   YOUNG SINGLES/COUPLES          Premium  \n",
       "1  MIDAGE SINGLES/COUPLES           Budget  \n",
       "2  MIDAGE SINGLES/COUPLES           Budget  \n",
       "3  MIDAGE SINGLES/COUPLES           Budget  \n",
       "4  MIDAGE SINGLES/COUPLES           Budget  "
      ]
     },
     "execution_count": 102,
     "metadata": {},
     "output_type": "execute_result"
    }
   ],
   "source": [
    "df.head()"
   ]
  },
  {
   "cell_type": "code",
   "execution_count": 103,
   "id": "08089148",
   "metadata": {},
   "outputs": [
    {
     "data": {
      "text/plain": [
       "(264835, 11)"
      ]
     },
     "execution_count": 103,
     "metadata": {},
     "output_type": "execute_result"
    }
   ],
   "source": [
    "df.shape"
   ]
  },
  {
   "cell_type": "markdown",
   "id": "fb337c66",
   "metadata": {},
   "source": [
    "#### Saving the cleaned merged dataset"
   ]
  },
  {
   "cell_type": "code",
   "execution_count": 104,
   "id": "49789a7e",
   "metadata": {},
   "outputs": [],
   "source": [
    "df.to_csv('Cleaned_Quantium_Merged_Dataset.csv', index=False)"
   ]
  },
  {
   "cell_type": "markdown",
   "id": "6d9cf8d7",
   "metadata": {},
   "source": [
    "#### Since i am meant to analyse the customer behaviour on the purchase of chips alone, i am going to filter the product name with goods that has chips in them. However, i am going to rename some cells because i noticed that some words are abbreviated, while some are not spelt in full."
   ]
  },
  {
   "cell_type": "code",
   "execution_count": 105,
   "id": "6166074f",
   "metadata": {},
   "outputs": [],
   "source": [
    "def rename(PROD_NAME):\n",
    "    abbreviations = {'Chps' : 'Chips', 'Chp' : 'Chips', 'Compny' : 'Company'}\n",
    "    for i in abbreviations.keys():\n",
    "        if i in PROD_NAME:\n",
    "            PROD_NAME = PROD_NAME.replace(i, abbreviations[i])\n",
    "    return PROD_NAME       "
   ]
  },
  {
   "cell_type": "code",
   "execution_count": 106,
   "id": "6f6b81d9",
   "metadata": {},
   "outputs": [],
   "source": [
    "df['PROD_NAME'] = df['PROD_NAME'].apply(rename)"
   ]
  },
  {
   "cell_type": "markdown",
   "id": "0666206e",
   "metadata": {},
   "source": [
    "#### Now, i would filter the dataset to show only product names that has chips in it "
   ]
  },
  {
   "cell_type": "code",
   "execution_count": 107,
   "id": "6f8bfb9e",
   "metadata": {},
   "outputs": [],
   "source": [
    "pick_chips = ' Chips'\n",
    "Chips_filter = df['PROD_NAME'].str.contains(pick_chips)"
   ]
  },
  {
   "cell_type": "code",
   "execution_count": 108,
   "id": "bf0b277d",
   "metadata": {},
   "outputs": [],
   "source": [
    "x = Chips_filter.value_counts()"
   ]
  },
  {
   "cell_type": "code",
   "execution_count": 109,
   "id": "40686ef6",
   "metadata": {},
   "outputs": [
    {
     "data": {
      "text/plain": [
       "False    202300\n",
       "True      62535\n",
       "Name: PROD_NAME, dtype: int64"
      ]
     },
     "execution_count": 109,
     "metadata": {},
     "output_type": "execute_result"
    }
   ],
   "source": [
    "x"
   ]
  },
  {
   "cell_type": "markdown",
   "id": "cb2f0574",
   "metadata": {},
   "source": [
    "This means that there are 62,535 chips product, gotten from the product name"
   ]
  },
  {
   "cell_type": "code",
   "execution_count": 110,
   "id": "97962523",
   "metadata": {},
   "outputs": [],
   "source": [
    "chips_product = df.loc[Chips_filter, ['DATE', 'STORE_NBR', 'LYLTY_CARD_NBR', 'TXN_ID', 'PROD_NBR', 'PROD_NAME', 'PROD_QTY', 'TOT_SALES', 'WEIGHTS(g)', 'LIFESTAGE', 'PREMIUM_CUSTOMER']]"
   ]
  },
  {
   "cell_type": "code",
   "execution_count": 111,
   "id": "e348fb3c",
   "metadata": {},
   "outputs": [
    {
     "data": {
      "text/html": [
       "<div>\n",
       "<style scoped>\n",
       "    .dataframe tbody tr th:only-of-type {\n",
       "        vertical-align: middle;\n",
       "    }\n",
       "\n",
       "    .dataframe tbody tr th {\n",
       "        vertical-align: top;\n",
       "    }\n",
       "\n",
       "    .dataframe thead th {\n",
       "        text-align: right;\n",
       "    }\n",
       "</style>\n",
       "<table border=\"1\" class=\"dataframe\">\n",
       "  <thead>\n",
       "    <tr style=\"text-align: right;\">\n",
       "      <th></th>\n",
       "      <th>DATE</th>\n",
       "      <th>STORE_NBR</th>\n",
       "      <th>LYLTY_CARD_NBR</th>\n",
       "      <th>TXN_ID</th>\n",
       "      <th>PROD_NBR</th>\n",
       "      <th>PROD_NAME</th>\n",
       "      <th>PROD_QTY</th>\n",
       "      <th>TOT_SALES</th>\n",
       "      <th>WEIGHTS(g)</th>\n",
       "      <th>LIFESTAGE</th>\n",
       "      <th>PREMIUM_CUSTOMER</th>\n",
       "    </tr>\n",
       "  </thead>\n",
       "  <tbody>\n",
       "    <tr>\n",
       "      <th>2</th>\n",
       "      <td>2018-11-10</td>\n",
       "      <td>1</td>\n",
       "      <td>1307</td>\n",
       "      <td>346</td>\n",
       "      <td>96</td>\n",
       "      <td>WW Original Stacked Chips</td>\n",
       "      <td>2</td>\n",
       "      <td>3.8</td>\n",
       "      <td>160</td>\n",
       "      <td>MIDAGE SINGLES/COUPLES</td>\n",
       "      <td>Budget</td>\n",
       "    </tr>\n",
       "    <tr>\n",
       "      <th>4</th>\n",
       "      <td>2019-05-20</td>\n",
       "      <td>1</td>\n",
       "      <td>1343</td>\n",
       "      <td>383</td>\n",
       "      <td>61</td>\n",
       "      <td>Smiths Crinkle Cut  Chips Chicken</td>\n",
       "      <td>2</td>\n",
       "      <td>2.9</td>\n",
       "      <td>170</td>\n",
       "      <td>MIDAGE SINGLES/COUPLES</td>\n",
       "      <td>Budget</td>\n",
       "    </tr>\n",
       "    <tr>\n",
       "      <th>6</th>\n",
       "      <td>2018-08-18</td>\n",
       "      <td>2</td>\n",
       "      <td>2426</td>\n",
       "      <td>1038</td>\n",
       "      <td>108</td>\n",
       "      <td>Kettle Tortilla ChipsHny&amp;Jlpno Chili</td>\n",
       "      <td>3</td>\n",
       "      <td>13.8</td>\n",
       "      <td>150</td>\n",
       "      <td>MIDAGE SINGLES/COUPLES</td>\n",
       "      <td>Budget</td>\n",
       "    </tr>\n",
       "    <tr>\n",
       "      <th>9</th>\n",
       "      <td>2018-08-09</td>\n",
       "      <td>4</td>\n",
       "      <td>4074</td>\n",
       "      <td>2979</td>\n",
       "      <td>60</td>\n",
       "      <td>Kettle Tortilla ChipsFeta&amp;Garlic</td>\n",
       "      <td>2</td>\n",
       "      <td>9.2</td>\n",
       "      <td>150</td>\n",
       "      <td>MIDAGE SINGLES/COUPLES</td>\n",
       "      <td>Budget</td>\n",
       "    </tr>\n",
       "    <tr>\n",
       "      <th>10</th>\n",
       "      <td>2018-12-12</td>\n",
       "      <td>4</td>\n",
       "      <td>4074</td>\n",
       "      <td>2980</td>\n",
       "      <td>4</td>\n",
       "      <td>Dorito Corn Chips     Supreme</td>\n",
       "      <td>2</td>\n",
       "      <td>13.0</td>\n",
       "      <td>380</td>\n",
       "      <td>MIDAGE SINGLES/COUPLES</td>\n",
       "      <td>Budget</td>\n",
       "    </tr>\n",
       "    <tr>\n",
       "      <th>...</th>\n",
       "      <td>...</td>\n",
       "      <td>...</td>\n",
       "      <td>...</td>\n",
       "      <td>...</td>\n",
       "      <td>...</td>\n",
       "      <td>...</td>\n",
       "      <td>...</td>\n",
       "      <td>...</td>\n",
       "      <td>...</td>\n",
       "      <td>...</td>\n",
       "      <td>...</td>\n",
       "    </tr>\n",
       "    <tr>\n",
       "      <th>264817</th>\n",
       "      <td>2018-11-04</td>\n",
       "      <td>271</td>\n",
       "      <td>271193</td>\n",
       "      <td>269365</td>\n",
       "      <td>33</td>\n",
       "      <td>Cobs Popd SwtChlli &amp;SrCream Chips</td>\n",
       "      <td>2</td>\n",
       "      <td>7.6</td>\n",
       "      <td>110</td>\n",
       "      <td>YOUNG SINGLES/COUPLES</td>\n",
       "      <td>Premium</td>\n",
       "    </tr>\n",
       "    <tr>\n",
       "      <th>264818</th>\n",
       "      <td>2019-05-29</td>\n",
       "      <td>271</td>\n",
       "      <td>271193</td>\n",
       "      <td>269366</td>\n",
       "      <td>75</td>\n",
       "      <td>Cobs Popd Sea Salt  Chips</td>\n",
       "      <td>2</td>\n",
       "      <td>7.6</td>\n",
       "      <td>110</td>\n",
       "      <td>YOUNG SINGLES/COUPLES</td>\n",
       "      <td>Premium</td>\n",
       "    </tr>\n",
       "    <tr>\n",
       "      <th>264824</th>\n",
       "      <td>2019-03-13</td>\n",
       "      <td>272</td>\n",
       "      <td>272193</td>\n",
       "      <td>269906</td>\n",
       "      <td>9</td>\n",
       "      <td>Kettle Tortilla ChipsBtroot&amp;Ricotta</td>\n",
       "      <td>1</td>\n",
       "      <td>4.6</td>\n",
       "      <td>150</td>\n",
       "      <td>YOUNG SINGLES/COUPLES</td>\n",
       "      <td>Premium</td>\n",
       "    </tr>\n",
       "    <tr>\n",
       "      <th>264826</th>\n",
       "      <td>2019-03-25</td>\n",
       "      <td>272</td>\n",
       "      <td>272194</td>\n",
       "      <td>269908</td>\n",
       "      <td>75</td>\n",
       "      <td>Cobs Popd Sea Salt  Chips</td>\n",
       "      <td>2</td>\n",
       "      <td>7.6</td>\n",
       "      <td>110</td>\n",
       "      <td>YOUNG SINGLES/COUPLES</td>\n",
       "      <td>Premium</td>\n",
       "    </tr>\n",
       "    <tr>\n",
       "      <th>264829</th>\n",
       "      <td>2018-11-12</td>\n",
       "      <td>272</td>\n",
       "      <td>272319</td>\n",
       "      <td>270087</td>\n",
       "      <td>44</td>\n",
       "      <td>Thins Chips Light&amp;  Tangy</td>\n",
       "      <td>2</td>\n",
       "      <td>6.6</td>\n",
       "      <td>175</td>\n",
       "      <td>YOUNG SINGLES/COUPLES</td>\n",
       "      <td>Premium</td>\n",
       "    </tr>\n",
       "  </tbody>\n",
       "</table>\n",
       "<p>62535 rows × 11 columns</p>\n",
       "</div>"
      ],
      "text/plain": [
       "             DATE  STORE_NBR  LYLTY_CARD_NBR  TXN_ID  PROD_NBR  \\\n",
       "2      2018-11-10          1            1307     346        96   \n",
       "4      2019-05-20          1            1343     383        61   \n",
       "6      2018-08-18          2            2426    1038       108   \n",
       "9      2018-08-09          4            4074    2979        60   \n",
       "10     2018-12-12          4            4074    2980         4   \n",
       "...           ...        ...             ...     ...       ...   \n",
       "264817 2018-11-04        271          271193  269365        33   \n",
       "264818 2019-05-29        271          271193  269366        75   \n",
       "264824 2019-03-13        272          272193  269906         9   \n",
       "264826 2019-03-25        272          272194  269908        75   \n",
       "264829 2018-11-12        272          272319  270087        44   \n",
       "\n",
       "                                     PROD_NAME  PROD_QTY  TOT_SALES  \\\n",
       "2                  WW Original Stacked Chips           2        3.8   \n",
       "4          Smiths Crinkle Cut  Chips Chicken           2        2.9   \n",
       "6       Kettle Tortilla ChipsHny&Jlpno Chili           3       13.8   \n",
       "9           Kettle Tortilla ChipsFeta&Garlic           2        9.2   \n",
       "10             Dorito Corn Chips     Supreme           2       13.0   \n",
       "...                                        ...       ...        ...   \n",
       "264817     Cobs Popd SwtChlli &SrCream Chips           2        7.6   \n",
       "264818             Cobs Popd Sea Salt  Chips           2        7.6   \n",
       "264824   Kettle Tortilla ChipsBtroot&Ricotta           1        4.6   \n",
       "264826             Cobs Popd Sea Salt  Chips           2        7.6   \n",
       "264829             Thins Chips Light&  Tangy           2        6.6   \n",
       "\n",
       "       WEIGHTS(g)               LIFESTAGE PREMIUM_CUSTOMER  \n",
       "2             160  MIDAGE SINGLES/COUPLES           Budget  \n",
       "4             170  MIDAGE SINGLES/COUPLES           Budget  \n",
       "6             150  MIDAGE SINGLES/COUPLES           Budget  \n",
       "9             150  MIDAGE SINGLES/COUPLES           Budget  \n",
       "10            380  MIDAGE SINGLES/COUPLES           Budget  \n",
       "...           ...                     ...              ...  \n",
       "264817        110   YOUNG SINGLES/COUPLES          Premium  \n",
       "264818        110   YOUNG SINGLES/COUPLES          Premium  \n",
       "264824        150   YOUNG SINGLES/COUPLES          Premium  \n",
       "264826        110   YOUNG SINGLES/COUPLES          Premium  \n",
       "264829        175   YOUNG SINGLES/COUPLES          Premium  \n",
       "\n",
       "[62535 rows x 11 columns]"
      ]
     },
     "execution_count": 111,
     "metadata": {},
     "output_type": "execute_result"
    }
   ],
   "source": [
    "chips_product"
   ]
  },
  {
   "cell_type": "code",
   "execution_count": 112,
   "id": "0a8d6a1d",
   "metadata": {},
   "outputs": [],
   "source": [
    "chips_product = chips_product.reset_index()"
   ]
  },
  {
   "cell_type": "markdown",
   "id": "1d40c3e4",
   "metadata": {},
   "source": [
    "# EDA"
   ]
  },
  {
   "cell_type": "markdown",
   "id": "c6e6dfa7",
   "metadata": {},
   "source": [
    "Using a def function to create a new column that would show if the product bought is either small, medium or large based on the product quality "
   ]
  },
  {
   "cell_type": "code",
   "execution_count": 113,
   "id": "2119860c",
   "metadata": {},
   "outputs": [],
   "source": [
    "def size(number):\n",
    "    if number < 100:\n",
    "        return 'Small'\n",
    "    if number >= 100 and number < 200:\n",
    "        return 'Medium'\n",
    "    if number >= 200:\n",
    "        return 'Large'"
   ]
  },
  {
   "cell_type": "code",
   "execution_count": 114,
   "id": "c7ac2abf",
   "metadata": {},
   "outputs": [],
   "source": [
    "chips_product['PROD_SIZE']=chips_product['PROD_QTY'].apply(size)"
   ]
  },
  {
   "cell_type": "markdown",
   "id": "88b83e0f",
   "metadata": {},
   "source": [
    "Creating a column that would provide the price of the product"
   ]
  },
  {
   "cell_type": "code",
   "execution_count": 115,
   "id": "3ff0f988",
   "metadata": {},
   "outputs": [],
   "source": [
    "chips_product['product_price'] = chips_product['TOT_SALES'] / chips_product['PROD_QTY']"
   ]
  },
  {
   "cell_type": "markdown",
   "id": "14644343",
   "metadata": {},
   "source": [
    "Creating a month column to help provide insight showing the hightest and lowest month sales"
   ]
  },
  {
   "cell_type": "code",
   "execution_count": 116,
   "id": "750fb992",
   "metadata": {},
   "outputs": [],
   "source": [
    "chips_product['DATE'] = chips_product['DATE'].dt.month_name()"
   ]
  },
  {
   "cell_type": "markdown",
   "id": "ea687a53",
   "metadata": {},
   "source": [
    "Creating a column from the product name that would show the brand name"
   ]
  },
  {
   "cell_type": "code",
   "execution_count": 117,
   "id": "0d1d002c",
   "metadata": {},
   "outputs": [],
   "source": [
    "def Brand_name(a):\n",
    "    b=a.split(\" \")\n",
    "    Brand=b[0]\n",
    "    \n",
    "    return Brand"
   ]
  },
  {
   "cell_type": "code",
   "execution_count": 118,
   "id": "74767b8c",
   "metadata": {},
   "outputs": [],
   "source": [
    "chips_product['BRAND NAME']=chips_product['PROD_NAME'].apply(Brand_name)"
   ]
  },
  {
   "cell_type": "markdown",
   "id": "2325a485",
   "metadata": {},
   "source": [
    "Creating a column that would show the age group of the customers"
   ]
  },
  {
   "cell_type": "code",
   "execution_count": 119,
   "id": "8fdfb626",
   "metadata": {},
   "outputs": [],
   "source": [
    "def age_cat(a):\n",
    "    b=a.split(\" \")\n",
    "    Age=''\n",
    "    if b[0]=='NEW':\n",
    "        Age='MIDAGE';\n",
    "    elif b[0]=='RETIREES':\n",
    "        Age='OLDER'\n",
    "    else:\n",
    "        Age=b[0]\n",
    "    return Age"
   ]
  },
  {
   "cell_type": "code",
   "execution_count": 120,
   "id": "164f43ca",
   "metadata": {},
   "outputs": [],
   "source": [
    "chips_product['AGE CATEGORY']=chips_product['LIFESTAGE'].apply(age_cat)"
   ]
  },
  {
   "cell_type": "code",
   "execution_count": 121,
   "id": "c21e26c2",
   "metadata": {},
   "outputs": [
    {
     "data": {
      "text/html": [
       "<div>\n",
       "<style scoped>\n",
       "    .dataframe tbody tr th:only-of-type {\n",
       "        vertical-align: middle;\n",
       "    }\n",
       "\n",
       "    .dataframe tbody tr th {\n",
       "        vertical-align: top;\n",
       "    }\n",
       "\n",
       "    .dataframe thead th {\n",
       "        text-align: right;\n",
       "    }\n",
       "</style>\n",
       "<table border=\"1\" class=\"dataframe\">\n",
       "  <thead>\n",
       "    <tr style=\"text-align: right;\">\n",
       "      <th></th>\n",
       "      <th>index</th>\n",
       "      <th>DATE</th>\n",
       "      <th>STORE_NBR</th>\n",
       "      <th>LYLTY_CARD_NBR</th>\n",
       "      <th>TXN_ID</th>\n",
       "      <th>PROD_NBR</th>\n",
       "      <th>PROD_NAME</th>\n",
       "      <th>PROD_QTY</th>\n",
       "      <th>TOT_SALES</th>\n",
       "      <th>WEIGHTS(g)</th>\n",
       "      <th>LIFESTAGE</th>\n",
       "      <th>PREMIUM_CUSTOMER</th>\n",
       "      <th>PROD_SIZE</th>\n",
       "      <th>product_price</th>\n",
       "      <th>BRAND NAME</th>\n",
       "      <th>AGE CATEGORY</th>\n",
       "    </tr>\n",
       "  </thead>\n",
       "  <tbody>\n",
       "    <tr>\n",
       "      <th>0</th>\n",
       "      <td>2</td>\n",
       "      <td>November</td>\n",
       "      <td>1</td>\n",
       "      <td>1307</td>\n",
       "      <td>346</td>\n",
       "      <td>96</td>\n",
       "      <td>WW Original Stacked Chips</td>\n",
       "      <td>2</td>\n",
       "      <td>3.8</td>\n",
       "      <td>160</td>\n",
       "      <td>MIDAGE SINGLES/COUPLES</td>\n",
       "      <td>Budget</td>\n",
       "      <td>Small</td>\n",
       "      <td>1.90</td>\n",
       "      <td>WW</td>\n",
       "      <td>MIDAGE</td>\n",
       "    </tr>\n",
       "    <tr>\n",
       "      <th>1</th>\n",
       "      <td>4</td>\n",
       "      <td>May</td>\n",
       "      <td>1</td>\n",
       "      <td>1343</td>\n",
       "      <td>383</td>\n",
       "      <td>61</td>\n",
       "      <td>Smiths Crinkle Cut  Chips Chicken</td>\n",
       "      <td>2</td>\n",
       "      <td>2.9</td>\n",
       "      <td>170</td>\n",
       "      <td>MIDAGE SINGLES/COUPLES</td>\n",
       "      <td>Budget</td>\n",
       "      <td>Small</td>\n",
       "      <td>1.45</td>\n",
       "      <td>Smiths</td>\n",
       "      <td>MIDAGE</td>\n",
       "    </tr>\n",
       "    <tr>\n",
       "      <th>2</th>\n",
       "      <td>6</td>\n",
       "      <td>August</td>\n",
       "      <td>2</td>\n",
       "      <td>2426</td>\n",
       "      <td>1038</td>\n",
       "      <td>108</td>\n",
       "      <td>Kettle Tortilla ChipsHny&amp;Jlpno Chili</td>\n",
       "      <td>3</td>\n",
       "      <td>13.8</td>\n",
       "      <td>150</td>\n",
       "      <td>MIDAGE SINGLES/COUPLES</td>\n",
       "      <td>Budget</td>\n",
       "      <td>Small</td>\n",
       "      <td>4.60</td>\n",
       "      <td>Kettle</td>\n",
       "      <td>MIDAGE</td>\n",
       "    </tr>\n",
       "    <tr>\n",
       "      <th>3</th>\n",
       "      <td>9</td>\n",
       "      <td>August</td>\n",
       "      <td>4</td>\n",
       "      <td>4074</td>\n",
       "      <td>2979</td>\n",
       "      <td>60</td>\n",
       "      <td>Kettle Tortilla ChipsFeta&amp;Garlic</td>\n",
       "      <td>2</td>\n",
       "      <td>9.2</td>\n",
       "      <td>150</td>\n",
       "      <td>MIDAGE SINGLES/COUPLES</td>\n",
       "      <td>Budget</td>\n",
       "      <td>Small</td>\n",
       "      <td>4.60</td>\n",
       "      <td>Kettle</td>\n",
       "      <td>MIDAGE</td>\n",
       "    </tr>\n",
       "    <tr>\n",
       "      <th>4</th>\n",
       "      <td>10</td>\n",
       "      <td>December</td>\n",
       "      <td>4</td>\n",
       "      <td>4074</td>\n",
       "      <td>2980</td>\n",
       "      <td>4</td>\n",
       "      <td>Dorito Corn Chips     Supreme</td>\n",
       "      <td>2</td>\n",
       "      <td>13.0</td>\n",
       "      <td>380</td>\n",
       "      <td>MIDAGE SINGLES/COUPLES</td>\n",
       "      <td>Budget</td>\n",
       "      <td>Small</td>\n",
       "      <td>6.50</td>\n",
       "      <td>Dorito</td>\n",
       "      <td>MIDAGE</td>\n",
       "    </tr>\n",
       "  </tbody>\n",
       "</table>\n",
       "</div>"
      ],
      "text/plain": [
       "   index      DATE  STORE_NBR  LYLTY_CARD_NBR  TXN_ID  PROD_NBR  \\\n",
       "0      2  November          1            1307     346        96   \n",
       "1      4       May          1            1343     383        61   \n",
       "2      6    August          2            2426    1038       108   \n",
       "3      9    August          4            4074    2979        60   \n",
       "4     10  December          4            4074    2980         4   \n",
       "\n",
       "                                PROD_NAME  PROD_QTY  TOT_SALES WEIGHTS(g)  \\\n",
       "0             WW Original Stacked Chips           2        3.8        160   \n",
       "1     Smiths Crinkle Cut  Chips Chicken           2        2.9        170   \n",
       "2  Kettle Tortilla ChipsHny&Jlpno Chili           3       13.8        150   \n",
       "3      Kettle Tortilla ChipsFeta&Garlic           2        9.2        150   \n",
       "4         Dorito Corn Chips     Supreme           2       13.0        380   \n",
       "\n",
       "                LIFESTAGE PREMIUM_CUSTOMER PROD_SIZE  product_price  \\\n",
       "0  MIDAGE SINGLES/COUPLES           Budget     Small           1.90   \n",
       "1  MIDAGE SINGLES/COUPLES           Budget     Small           1.45   \n",
       "2  MIDAGE SINGLES/COUPLES           Budget     Small           4.60   \n",
       "3  MIDAGE SINGLES/COUPLES           Budget     Small           4.60   \n",
       "4  MIDAGE SINGLES/COUPLES           Budget     Small           6.50   \n",
       "\n",
       "  BRAND NAME AGE CATEGORY  \n",
       "0         WW       MIDAGE  \n",
       "1     Smiths       MIDAGE  \n",
       "2     Kettle       MIDAGE  \n",
       "3     Kettle       MIDAGE  \n",
       "4     Dorito       MIDAGE  "
      ]
     },
     "execution_count": 121,
     "metadata": {},
     "output_type": "execute_result"
    }
   ],
   "source": [
    "chips_product.head()"
   ]
  },
  {
   "cell_type": "markdown",
   "id": "e07e3864",
   "metadata": {},
   "source": [
    "Saving the dataset showing only chips product"
   ]
  },
  {
   "cell_type": "code",
   "execution_count": 123,
   "id": "0231c29a",
   "metadata": {},
   "outputs": [],
   "source": [
    "chips_product.to_csv('Cleaned_chips_product_dataset.csv', index=False)"
   ]
  }
 ],
 "metadata": {
  "kernelspec": {
   "display_name": "Python 3 (ipykernel)",
   "language": "python",
   "name": "python3"
  },
  "language_info": {
   "codemirror_mode": {
    "name": "ipython",
    "version": 3
   },
   "file_extension": ".py",
   "mimetype": "text/x-python",
   "name": "python",
   "nbconvert_exporter": "python",
   "pygments_lexer": "ipython3",
   "version": "3.9.13"
  }
 },
 "nbformat": 4,
 "nbformat_minor": 5
}
